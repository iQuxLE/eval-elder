{
 "cells": [
  {
   "cell_type": "code",
   "execution_count": 1,
   "id": "initial_id",
   "metadata": {
    "collapsed": true,
    "ExecuteTime": {
     "end_time": "2024-01-18T17:03:16.704902Z",
     "start_time": "2024-01-18T17:03:16.570265Z"
    }
   },
   "outputs": [],
   "source": [
    "import numpy as np\n",
    "\n",
    "# Simulated embeddings for 5 HPO terms\n",
    "embeddings_dict = {\n",
    "    \"HP1\": np.array([0.1, 0.2, 0.3]),\n",
    "    \"HP2\": np.array([0.2, 0.3, 0.4]),\n",
    "    \"HP3\": np.array([0.3, 0.4, 0.5]),\n",
    "    \"HP4\": np.array([0.4, 0.5, 0.6]),\n",
    "    \"HP5\": np.array([0.5, 0.6, 0.7])\n",
    "}\n",
    "disease_to_hpo = {\n",
    "    \"Disease A\": [\"HP1\", \"HP2\", \"HP3\", \"HP4\", \"HP5\"]\n",
    "}\n",
    "def calculate_average_embedding(hpo_list, embeddings_dict):\n",
    "    embeddings = [embeddings_dict[hp] for hp in hpo_list if hp in embeddings_dict]\n",
    "    return np.mean(embeddings, axis=0) if embeddings else np.array([])\n",
    "\n",
    "disease_a_embedding = calculate_average_embedding(disease_to_hpo[\"Disease A\"], embeddings_dict)\n"
   ]
  },
  {
   "cell_type": "code",
   "execution_count": 2,
   "outputs": [
    {
     "data": {
      "text/plain": "array([0.3, 0.4, 0.5])"
     },
     "execution_count": 2,
     "metadata": {},
     "output_type": "execute_result"
    }
   ],
   "source": [
    "disease_a_embedding"
   ],
   "metadata": {
    "collapsed": false,
    "ExecuteTime": {
     "end_time": "2024-01-18T17:03:16.711907Z",
     "start_time": "2024-01-18T17:03:16.704806Z"
    }
   },
   "id": "79378de1bf7d43d4"
  },
  {
   "cell_type": "code",
   "execution_count": 3,
   "outputs": [],
   "source": [
    "from pheval_exomiser.prepare.core.chromadb_manager import ChromaDBManager\n",
    "# from pheval_exomiser.prepare.utils.similarity_measures import SimilarityMeasures\n",
    "manager = ChromaDBManager()"
   ],
   "metadata": {
    "collapsed": false,
    "ExecuteTime": {
     "end_time": "2024-01-18T17:03:17.124664Z",
     "start_time": "2024-01-18T17:03:16.711741Z"
    }
   },
   "id": "d1cded8da472193d"
  },
  {
   "cell_type": "code",
   "execution_count": 4,
   "outputs": [
    {
     "data": {
      "text/plain": "<pheval_exomiser.prepare.core.chromadb_manager.ChromaDBManager at 0x11c026150>"
     },
     "execution_count": 4,
     "metadata": {},
     "output_type": "execute_result"
    }
   ],
   "source": [
    "manager"
   ],
   "metadata": {
    "collapsed": false,
    "ExecuteTime": {
     "end_time": "2024-01-18T17:03:17.129256Z",
     "start_time": "2024-01-18T17:03:17.124443Z"
    }
   },
   "id": "8611ab25b6a4c2f"
  },
  {
   "cell_type": "code",
   "execution_count": 5,
   "outputs": [],
   "source": [
    "manager.create_collection(\"test\")\n",
    "diseaseAvgEmbedings = manager.get_collection(\"test\")\n",
    "for disease, hps in disease_to_hpo.items():\n",
    "    average_embedding = calculate_average_embedding(hps, embeddings_dict)\n",
    "    diseaseAvgEmbedings.upsert(ids=[disease], embeddings=[average_embedding.tolist()],\n",
    "                               metadatas=[{\"type\": \"disease\"}])"
   ],
   "metadata": {
    "collapsed": false,
    "ExecuteTime": {
     "end_time": "2024-01-18T17:03:19.617401Z",
     "start_time": "2024-01-18T17:03:17.129441Z"
    }
   },
   "id": "8d051a8c40a30fe8"
  },
  {
   "cell_type": "code",
   "execution_count": 6,
   "outputs": [
    {
     "data": {
      "text/plain": "{'ids': ['Disease A'],\n 'embeddings': [[0.3, 0.4, 0.5]],\n 'metadatas': None,\n 'documents': None,\n 'uris': None,\n 'data': None}"
     },
     "execution_count": 6,
     "metadata": {},
     "output_type": "execute_result"
    }
   ],
   "source": [
    "diseaseAvgEmbedings.get(include=['embeddings'])"
   ],
   "metadata": {
    "collapsed": false,
    "ExecuteTime": {
     "end_time": "2024-01-18T17:03:19.623008Z",
     "start_time": "2024-01-18T17:03:19.617864Z"
    }
   },
   "id": "e7ac4759332602e3"
  },
  {
   "cell_type": "code",
   "execution_count": 8,
   "outputs": [
    {
     "name": "stderr",
     "output_type": "stream",
     "text": [
      "Number of requested results 10 is greater than number of elements in index 1, updating n_results = 1\n"
     ]
    },
    {
     "name": "stdout",
     "output_type": "stream",
     "text": [
      "[2.220446049250313e-16]\n",
      "['Disease A']\n"
     ]
    },
    {
     "data": {
      "text/plain": "[('Disease A', 2.220446049250313e-16)]"
     },
     "execution_count": 8,
     "metadata": {},
     "output_type": "execute_result"
    }
   ],
   "source": [
    "# avg_embedding = calculate_average_embedding(OMIM619340, cachedDict)\n",
    "\n",
    "query_results = diseaseAvgEmbedings.query(\n",
    "    query_embeddings=[disease_a_embedding.tolist()],\n",
    "    n_results=10,\n",
    "    include=[\"embeddings\", \"distances\"]\n",
    ")\n",
    "\n",
    "disease_ids = query_results['ids'][0] if 'ids' in query_results and query_results['ids'] else []\n",
    "\n",
    "distances = query_results['distances'][0] if 'distances' in query_results and query_results['distances'] else []\n",
    "sorted_results = sorted(zip(disease_ids, distances), key=lambda x: x[1])\n",
    "print(distances)\n",
    "print(disease_ids)\n",
    "sorted_results"
   ],
   "metadata": {
    "collapsed": false,
    "ExecuteTime": {
     "end_time": "2024-01-18T17:04:03.096617Z",
     "start_time": "2024-01-18T17:04:03.090571Z"
    }
   },
   "id": "fbc34de84d52b168"
  },
  {
   "cell_type": "code",
   "execution_count": 21,
   "outputs": [],
   "source": [
    "import numpy as np\n",
    "\n",
    "# Step 1: Create new simulated embeddings with higher dimensionality (1536)\n",
    "new_embeddings_dict = {f\"HP{i}\": np.random.normal(-0.039941002130508423, 0.039941002130508423, 1536) for i in range(1, 11)}\n",
    "\n",
    "# Redefine the calculate_average_embedding function for the new embeddings\n",
    "def calculate_average_embedding(hpo_list, embeddings_dict):\n",
    "    embeddings = [embeddings_dict[hp] for hp in hpo_list if hp in embeddings_dict]\n",
    "    return np.mean(embeddings, axis=0) if embeddings else np.array([])\n",
    "\n",
    "# Step 2: Calculate the average embedding for Disease A with new embeddings\n",
    "disease_a_new_embedding = calculate_average_embedding(disease_to_hpo[\"Disease A\"], new_embeddings_dict)"
   ],
   "metadata": {
    "collapsed": false,
    "ExecuteTime": {
     "end_time": "2024-01-18T19:30:14.564006Z",
     "start_time": "2024-01-18T19:30:14.550297Z"
    }
   },
   "id": "4ac981c7383249b7"
  },
  {
   "cell_type": "code",
   "execution_count": 23,
   "outputs": [],
   "source": [
    "# import numpy as np\n",
    "# \n",
    "# # Step 1: Create new simulated embeddings with higher dimensionality (1536)\n",
    "# new_embeddings_dict = {f\"HP{i}\": np.random.normal(-0.00877, 0.00001, 1536) for i in range(1, 11)}\n",
    "# \n",
    "# # Redefine the calculate_average_embedding function for the new embeddings\n",
    "# def calculate_average_embedding(hpo_list, embeddings_dict):\n",
    "#     embeddings = [embeddings_dict[hp] for hp in hpo_list if hp in embeddings_dict]\n",
    "#     return np.mean(embeddings, axis=0) if embeddings else np.array([])\n",
    "# \n",
    "# # Step 2: Calculate the average embedding for Disease A with new embeddings\n",
    "# disease_a_new_embedding = calculate_average_embedding(disease_to_hpo[\"Disease A\"], new_embeddings_dict)\n",
    "manager.create_collection(\"crazy\")\n",
    "newTEST = manager.get_collection(\"crazy\")\n",
    "# new = newTEST.get(include=['metadatas', 'embeddings'])\n",
    "\n",
    "# Step 3: Upsert this new average embedding into your collection\n",
    "# newTEST.upsert(ids=[\"Disease A\"], embeddings=[disease_a_new_embedding.tolist()], metadatas=[{\"type\": \"disease\"}])\n",
    "# \n",
    "# # Step 4: Query the collection with the same average embedding\n",
    "# query_results = newTEST.query(\n",
    "#     query_embeddings=[disease_a_new_embedding.tolist()],\n",
    "#     n_results=10,\n",
    "#     include=[\"embeddings\", \"distances\"]\n",
    "# )\n",
    "# \n",
    "# # Extract the results\n",
    "# disease_ids = query_results['ids'][0] if 'ids' in query_results and query_results['ids'] else []\n",
    "# distances = query_results['distances'][0] if 'distances' in query_results and query_results['distances'] else []\n",
    "# sorted_results = sorted(zip(disease_ids, distances), key=lambda x: x[1])\n",
    "# \n",
    "# # Step 5: Print out the distances and check the results\n",
    "# print(distances)\n",
    "# print(disease_ids)\n",
    "# print(sorted_results)\n"
   ],
   "metadata": {
    "collapsed": false,
    "ExecuteTime": {
     "end_time": "2024-01-18T19:30:34.706671Z",
     "start_time": "2024-01-18T19:30:34.689190Z"
    }
   },
   "id": "ef7671b48ee1b996"
  },
  {
   "cell_type": "code",
   "execution_count": 24,
   "outputs": [
    {
     "name": "stderr",
     "output_type": "stream",
     "text": [
      "Number of requested results 10 is greater than number of elements in index 1, updating n_results = 1\n"
     ]
    },
    {
     "name": "stdout",
     "output_type": "stream",
     "text": [
      "[0.0]\n",
      "['Disease A']\n",
      "[('Disease A', 0.0)]\n"
     ]
    }
   ],
   "source": [
    "newTEST.upsert(ids=[\"Disease A\"], embeddings=[disease_a_new_embedding.tolist()], metadatas=[{\"type\": \"disease\"}])\n",
    "\n",
    "# Step 4: Query the collection with the same average embedding\n",
    "query_results = newTEST.query(\n",
    "    query_embeddings=[disease_a_new_embedding.tolist()],\n",
    "    n_results=10,\n",
    "    include=[\"embeddings\", \"distances\"]\n",
    ")\n",
    "\n",
    "# Extract the results\n",
    "disease_ids = query_results['ids'][0] if 'ids' in query_results and query_results['ids'] else []\n",
    "distances = query_results['distances'][0] if 'distances' in query_results and query_results['distances'] else []\n",
    "sorted_results = sorted(zip(disease_ids, distances), key=lambda x: x[1])\n",
    "\n",
    "# Step 5: Print out the distances and check the results\n",
    "print(distances)\n",
    "print(disease_ids)\n",
    "print(sorted_results)\n"
   ],
   "metadata": {
    "collapsed": false,
    "ExecuteTime": {
     "end_time": "2024-01-18T19:30:42.394455Z",
     "start_time": "2024-01-18T19:30:37.223009Z"
    }
   },
   "id": "6498452302a88fc9"
  },
  {
   "cell_type": "code",
   "execution_count": 25,
   "outputs": [
    {
     "data": {
      "text/plain": "{'HP1': array([-0.03581619, -0.07619514, -0.05492479, ..., -0.06591951,\n        -0.05394123, -0.07380856]),\n 'HP2': array([ 0.00451391,  0.01096005, -0.00496753, ..., -0.05810581,\n        -0.10208682, -0.08620999]),\n 'HP3': array([-0.00180608, -0.0770883 , -0.04278196, ..., -0.02331939,\n        -0.01675649, -0.01305129]),\n 'HP4': array([ 0.0034397 ,  0.05602453, -0.07040899, ..., -0.04364077,\n        -0.00717418, -0.04011242]),\n 'HP5': array([-0.07470257,  0.01484858,  0.00946041, ..., -0.04499468,\n        -0.04954425, -0.14558055]),\n 'HP6': array([-0.02546018, -0.04406923, -0.07830516, ..., -0.05680108,\n        -0.04194895, -0.00078835]),\n 'HP7': array([-0.09715197,  0.00175014, -0.05199694, ..., -0.07017845,\n        -0.0287933 , -0.12851831]),\n 'HP8': array([ 0.06817379, -0.00313828, -0.00917981, ..., -0.14316451,\n         0.00530304, -0.02747261]),\n 'HP9': array([-0.07479182, -0.04127378, -0.02561885, ..., -0.00586313,\n        -0.01688929, -0.05656104]),\n 'HP10': array([ 0.00738873,  0.00726532, -0.01353143, ..., -0.07272468,\n        -0.03448292, -0.09938608])}"
     },
     "execution_count": 25,
     "metadata": {},
     "output_type": "execute_result"
    }
   ],
   "source": [
    "new_embeddings_dict"
   ],
   "metadata": {
    "collapsed": false,
    "ExecuteTime": {
     "end_time": "2024-01-18T19:30:56.548997Z",
     "start_time": "2024-01-18T19:30:56.542230Z"
    }
   },
   "id": "ec53eff138e43336"
  },
  {
   "cell_type": "code",
   "execution_count": null,
   "outputs": [],
   "source": [],
   "metadata": {
    "collapsed": false
   },
   "id": "24e29db9c54635f3"
  }
 ],
 "metadata": {
  "kernelspec": {
   "display_name": "Python 3",
   "language": "python",
   "name": "python3"
  },
  "language_info": {
   "codemirror_mode": {
    "name": "ipython",
    "version": 2
   },
   "file_extension": ".py",
   "mimetype": "text/x-python",
   "name": "python",
   "nbconvert_exporter": "python",
   "pygments_lexer": "ipython2",
   "version": "2.7.6"
  }
 },
 "nbformat": 4,
 "nbformat_minor": 5
}
